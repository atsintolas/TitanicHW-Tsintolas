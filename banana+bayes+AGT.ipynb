{
 "cells": [
  {
   "cell_type": "code",
   "execution_count": 36,
   "metadata": {
    "collapsed": true
   },
   "outputs": [],
   "source": [
    "p_banana_long = 300/450\n",
    "p_banana_sweet = 450/650\n",
    "p_banana_yellow = 450/800\n",
    "\n",
    "p_long_banana = 300/500\n",
    "p_sweet_banana = 450/500\n",
    "p_yellow_banana = 450/500\n",
    "\n",
    "p_notBanana_long = 150/500\n",
    "p_notBanana_sweet = 200/500\n",
    "p_notBanana_yellow = 350/500\n",
    "\n",
    "totalBananas = 500\n",
    "totalOranges = 300\n",
    "totalOther = 200\n",
    "\n",
    "yellowBananas = 450 \n",
    "longBananas = 300\n",
    "sweetBananas =  500\n",
    "\n",
    "totalLong = 450\n",
    "totalSweet = 650\n",
    "totalYellow = 800\n",
    "\n",
    "p_b_lsy = p_long_banana * p_sweet_banana * p_yellow_banana"
   ]
  },
  {
   "cell_type": "code",
   "execution_count": 37,
   "metadata": {
    "collapsed": true
   },
   "outputs": [],
   "source": [
    "def addnumbers(x,y):\n",
    "    return x+y\n",
    "\n",
    "def prob_a_b(a,b):\n",
    "    return a/b\n",
    "\n",
    "def prob_not(x,y):\n",
    "    return 1-prob_a_b(x,y)"
   ]
  },
  {
   "cell_type": "code",
   "execution_count": 24,
   "metadata": {},
   "outputs": [
    {
     "data": {
      "text/plain": [
       "0.5625"
      ]
     },
     "execution_count": 24,
     "metadata": {},
     "output_type": "execute_result"
    }
   ],
   "source": [
    "#Probabiliy of bananas given it is yellow\n",
    "prob_a_b(yellowBananas ,totalYellow)"
   ]
  },
  {
   "cell_type": "code",
   "execution_count": 25,
   "metadata": {},
   "outputs": [
    {
     "data": {
      "text/plain": [
       "0.9"
      ]
     },
     "execution_count": 25,
     "metadata": {},
     "output_type": "execute_result"
    }
   ],
   "source": [
    "#Probability yellow given that it is a banana\n",
    "prob_a_b(yellowBananas, totalBananas)"
   ]
  },
  {
   "cell_type": "code",
   "execution_count": 26,
   "metadata": {},
   "outputs": [
    {
     "data": {
      "text/plain": [
       "0.1"
      ]
     },
     "execution_count": 26,
     "metadata": {},
     "output_type": "execute_result"
    }
   ],
   "source": [
    "#Probability not yellow given that it is a banana\n",
    "prob_a_b(totalBananas-yellowBananas, totalBananas)"
   ]
  },
  {
   "cell_type": "code",
   "execution_count": 42,
   "metadata": {},
   "outputs": [
    {
     "data": {
      "text/plain": [
       "0.00108"
      ]
     },
     "execution_count": 42,
     "metadata": {},
     "output_type": "execute_result"
    }
   ],
   "source": [
    "p_b_lsyNum=prob_a_b(longBananas,totalBananas)*prob_a_b(sweetBananas,totalBananas)*prob_a_b(yellowBananas,totalBananas)\n",
    "p_b_lsyDen = totalBananas/(totalBananas+totalOranges+totalOther)\n",
    "\n",
    "p_b_lsy = p_b_lsyNum/p_b_lsyDen\n",
    "p_b_lsy\n",
    "p_b_lsyNum"
   ]
  },
  {
   "cell_type": "code",
   "execution_count": 40,
   "metadata": {},
   "outputs": [
    {
     "data": {
      "text/plain": [
       "0.0009720000000000001"
      ]
     },
     "execution_count": 40,
     "metadata": {},
     "output_type": "execute_result"
    }
   ],
   "source": [
    "def prob_b_lsy(x,y,z):\n",
    "    return x*y*z\n",
    "\n",
    "prob_b_lsy(p_long_banana,p_sweet_banana,p_yellow_banana)"
   ]
  }
 ],
 "metadata": {
  "kernelspec": {
   "display_name": "Python 3",
   "language": "python",
   "name": "python3"
  },
  "language_info": {
   "codemirror_mode": {
    "name": "ipython",
    "version": 3
   },
   "file_extension": ".py",
   "mimetype": "text/x-python",
   "name": "python",
   "nbconvert_exporter": "python",
   "pygments_lexer": "ipython3",
   "version": "3.6.3"
  }
 },
 "nbformat": 4,
 "nbformat_minor": 2
}
